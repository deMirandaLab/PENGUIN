{
 "cells": [
  {
   "cell_type": "code",
   "execution_count": 1,
   "metadata": {},
   "outputs": [
    {
     "data": {
      "text/html": [
       "<style id=hide>div.input{display:none;}</style><button type=\"button\"onclick=\"var myStyle = \n",
       "document.getElementById('hide').sheet;myStyle.insertRule('div.input{display:inherit !important;}', 0);\">Show inputs</button>"
      ],
      "text/plain": [
       "<IPython.core.display.HTML object>"
      ]
     },
     "metadata": {},
     "output_type": "display_data"
    }
   ],
   "source": [
    "# Run me to hide code cells\n",
    "from IPython.display import display, HTML\n",
    "# from IPython.core.display import display, HTML\n",
    "display(HTML(r\"\"\"<style id=hide>div.input{display:none;}</style><button type=\"button\"onclick=\"var myStyle = \n",
    "document.getElementById('hide').sheet;myStyle.insertRule('div.input{display:inherit !important;}', 0);\">Show inputs</button>\"\"\"))"
   ]
  },
  {
   "cell_type": "markdown",
   "metadata": {},
   "source": [
    "# IMAGES PER CHANNEL - One file correspondens to one channel image \n",
    "\n",
    "Folder structure:\n",
    "\n",
    "-- Folder\n",
    "   \n",
    "   -- Folder_Pat_1\n",
    "       \n",
    "       -- img_ch_name1\n",
    "       \n",
    "       -- img_ch_name2\n",
    "       \n",
    "       -- img_ch_nameN\n",
    "    \n",
    "    -- Folder_Pat_2\n",
    "    \n",
    "        -- img_ch_name1\n",
    "       \n",
    "        -- img_ch_name2\n",
    "       \n",
    "        -- img_ch_nameN\n",
    "    ...\n",
    "\n",
    "    \n",
    "The channel is a name of the channel  \n"
   ]
  },
  {
   "cell_type": "code",
   "execution_count": 2,
   "metadata": {},
   "outputs": [
    {
     "data": {
      "application/vnd.jupyter.widget-view+json": {
       "model_id": "806ab3999ce04a1cae36e8e0975edf5c",
       "version_major": 2,
       "version_minor": 0
      },
      "text/plain": [
       "Text(value='data/IMC_ESD/raw', description='Path:')"
      ]
     },
     "metadata": {},
     "output_type": "display_data"
    },
    {
     "data": {
      "application/vnd.jupyter.widget-view+json": {
       "model_id": "8b793fb29e99421b9932abe51c6da6e0",
       "version_major": 2,
       "version_minor": 0
      },
      "text/plain": [
       "Button(description='Change Path', style=ButtonStyle())"
      ]
     },
     "metadata": {},
     "output_type": "display_data"
    },
    {
     "data": {
      "application/vnd.jupyter.widget-view+json": {
       "model_id": "e70ef27c5f494e19b80f9251f4ab72bb",
       "version_major": 2,
       "version_minor": 0
      },
      "text/plain": [
       "Output()"
      ]
     },
     "metadata": {},
     "output_type": "display_data"
    }
   ],
   "source": [
    "from src.image_widget_one_ch import ImageProcessingWidget\n",
    "image_processing_widget = ImageProcessingWidget()\n"
   ]
  }
 ],
 "metadata": {
  "hide_input": false,
  "kernelspec": {
   "display_name": "penguin",
   "language": "python",
   "name": "penguin"
  },
  "language_info": {
   "codemirror_mode": {
    "name": "ipython",
    "version": 3
   },
   "file_extension": ".py",
   "mimetype": "text/x-python",
   "name": "python",
   "nbconvert_exporter": "python",
   "pygments_lexer": "ipython3",
   "version": "3.8.18"
  }
 },
 "nbformat": 4,
 "nbformat_minor": 4
}
